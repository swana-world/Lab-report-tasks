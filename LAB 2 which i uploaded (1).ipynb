{
 "cells": [
  {
   "cell_type": "markdown",
   "id": "c70973dc",
   "metadata": {},
   "source": [
    "# Lab Report Tasks:"
   ]
  },
  {
   "cell_type": "markdown",
   "id": "4ae9dce5",
   "metadata": {},
   "source": [
    "# Define a function that will take the parameters as current and resistance and will output the voltage across the resistance. "
   ]
  },
  {
   "cell_type": "markdown",
   "id": "47b3d0f2",
   "metadata": {},
   "source": [
    "# i) a:"
   ]
  },
  {
   "cell_type": "code",
   "execution_count": 1,
   "id": "afb19b72",
   "metadata": {},
   "outputs": [
    {
     "name": "stdout",
     "output_type": "stream",
     "text": [
      "15\n"
     ]
    }
   ],
   "source": [
    "#Positional Arguments:\n",
    "\n",
    "def calculate_voltage(current, resistance):\n",
    "    return current * resistance\n",
    "\n",
    "# Calling the function\n",
    "voltage = calculate_voltage(3, 5)\n",
    "print(voltage)  # Output: 20"
   ]
  },
  {
   "cell_type": "markdown",
   "id": "139be9ae",
   "metadata": {},
   "source": [
    "# b:"
   ]
  },
  {
   "cell_type": "code",
   "execution_count": 12,
   "id": "73486331",
   "metadata": {},
   "outputs": [
    {
     "name": "stdout",
     "output_type": "stream",
     "text": [
      "20\n"
     ]
    }
   ],
   "source": [
    "#Keyword Arguments:\n",
    "\n",
    "def calculate_voltage(current, resistance):\n",
    "    return current * resistance\n",
    "\n",
    "# Calling the function\n",
    "voltage = calculate_voltage(current=2, resistance=10)\n",
    "print(voltage)  # Output: 20"
   ]
  },
  {
   "cell_type": "markdown",
   "id": "6e5cba02",
   "metadata": {},
   "source": [
    "# c:"
   ]
  },
  {
   "cell_type": "code",
   "execution_count": 13,
   "id": "7c66d435",
   "metadata": {},
   "outputs": [
    {
     "name": "stdout",
     "output_type": "stream",
     "text": [
      "20\n",
      "40\n"
     ]
    }
   ],
   "source": [
    "#Default Arguments:\n",
    "\n",
    "def calculate_voltage(current=2, resistance=10):\n",
    "    return current * resistance\n",
    "\n",
    "# Calling the function with one argument\n",
    "voltage = calculate_voltage()\n",
    "print(voltage)  # Output: 20\n",
    "\n",
    "# Calling the function with two arguments\n",
    "voltage = calculate_voltage(2, 20)\n",
    "print(voltage)  # Output: 40\n"
   ]
  },
  {
   "cell_type": "markdown",
   "id": "6ec5278e",
   "metadata": {},
   "source": [
    "# d:"
   ]
  },
  {
   "cell_type": "code",
   "execution_count": 14,
   "id": "401c0ca8",
   "metadata": {},
   "outputs": [
    {
     "name": "stdout",
     "output_type": "stream",
     "text": [
      "20\n"
     ]
    }
   ],
   "source": [
    "#Passing Positional Arguments to Keyword Arguments:\n",
    "\n",
    "def calculate_voltage(current, resistance):\n",
    "    return current * resistance\n",
    "\n",
    "# Calling the function\n",
    "args = (2, 10)\n",
    "voltage = calculate_voltage(*args)\n",
    "print(voltage)  # Output: 20\n"
   ]
  },
  {
   "cell_type": "markdown",
   "id": "f09984f3",
   "metadata": {},
   "source": [
    "# e:\n"
   ]
  },
  {
   "cell_type": "code",
   "execution_count": 15,
   "id": "eae22bcf",
   "metadata": {},
   "outputs": [
    {
     "name": "stdout",
     "output_type": "stream",
     "text": [
      "calculate_voltage() missing 1 required positional argument: 'resistance'\n"
     ]
    }
   ],
   "source": [
    "#Passing Less Number of Arguments:\n",
    "\n",
    "def calculate_voltage(current, resistance):\n",
    "    return current * resistance\n",
    "\n",
    "# Calling the function with one argument\n",
    "try:\n",
    "    voltage = calculate_voltage(2)\n",
    "except TypeError as e:\n",
    "    print(e)  # Output: calculate_voltage() missing 1 required positional argument: 'resistance'"
   ]
  },
  {
   "cell_type": "markdown",
   "id": "336d3602",
   "metadata": {},
   "source": [
    "# f:"
   ]
  },
  {
   "cell_type": "code",
   "execution_count": 16,
   "id": "87cf840f",
   "metadata": {},
   "outputs": [
    {
     "ename": "SyntaxError",
     "evalue": "positional argument follows keyword argument (818493284.py, line 8)",
     "output_type": "error",
     "traceback": [
      "\u001b[1;36m  Cell \u001b[1;32mIn[16], line 8\u001b[1;36m\u001b[0m\n\u001b[1;33m    voltage = calculate_voltage(current=2, 10)\u001b[0m\n\u001b[1;37m                                             ^\u001b[0m\n\u001b[1;31mSyntaxError\u001b[0m\u001b[1;31m:\u001b[0m positional argument follows keyword argument\n"
     ]
    }
   ],
   "source": [
    "#Positional Argument Follows Keyword Argument:\n",
    "\n",
    "def calculate_voltage(current, resistance):\n",
    "    return current * resistance\n",
    "\n",
    "# Calling the function\n",
    "try:\n",
    "    voltage = calculate_voltage(current=2, 10)\n",
    "except SyntaxError as e:\n",
    "    print(e)  # Output: positional argument follows keyword argument\n"
   ]
  }
 ],
 "metadata": {
  "kernelspec": {
   "display_name": "Python 3 (ipykernel)",
   "language": "python",
   "name": "python3"
  },
  "language_info": {
   "codemirror_mode": {
    "name": "ipython",
    "version": 3
   },
   "file_extension": ".py",
   "mimetype": "text/x-python",
   "name": "python",
   "nbconvert_exporter": "python",
   "pygments_lexer": "ipython3",
   "version": "3.11.5"
  }
 },
 "nbformat": 4,
 "nbformat_minor": 5
}
